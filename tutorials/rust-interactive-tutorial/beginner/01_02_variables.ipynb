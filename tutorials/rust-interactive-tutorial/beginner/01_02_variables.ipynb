{
 "cells": [
  {
   "cell_type": "markdown",
   "metadata": {},
   "source": [
    "# Lesson B2: Variables, Mutability & Data Types\n",
    "\n",
    "**Duration**: 60-75 minutes  \n",
    "**Stage**: Beginner (Foundations)\n",
    "\n",
    "---\n",
    "\n",
    "## 🎯 Learning Objectives\n",
    "\n",
    "By the end of this lesson, you will be able to:\n",
    "1. Explain why Rust variables are immutable by default and the benefits this provides\n",
    "2. Create mutable variables when needed and understand when to use them\n",
    "3. Work with Rust's primitive data types (integers, floats, booleans, characters)\n",
    "4. Leverage Rust's type inference while understanding explicit type annotations\n",
    "5. Use variable shadowing effectively and understand its purpose\n",
    "\n",
    "---\n",
    "\n",
    "## 📋 Prerequisite Review\n",
    "\n",
    "**Quick Quiz**: Test your knowledge from the previous lesson:\n",
    "\n",
    "1. What function serves as the entry point for Rust programs?\n",
    "2. How do you print a variable's value using `println!`?\n",
    "3. What symbol indicates a macro in Rust?\n",
    "\n",
    "**Answers**: 1) `main`, 2) `println!(\"{}\", variable)`, 3) `!`\n",
    "\n",
    "---\n",
    "\n",
    "## 🧠 Key Concepts\n",
    "\n",
    "### Immutability by Default\n",
    "\n",
    "**Core Principle**: In Rust, variables are **immutable by default**.\n",
    "\n",
    "**Why?**\n",
    "- **Prevents bugs**: Can't accidentally change values\n",
    "- **Enables optimizations**: Compiler knows values won't change\n",
    "- **Improves reasoning**: Easier to understand program flow\n",
    "- **Thread safety**: Immutable data is inherently safe to share\n",
    "\n",
    "### Type System Benefits\n",
    "\n",
    "Rust's type system provides:\n",
    "- **Compile-time error detection**: Catch type mismatches early\n",
    "- **Performance**: No runtime type checking overhead\n",
    "- **Clarity**: Types document your intentions\n",
    "- **Safety**: Prevents many common programming errors\n",
    "\n",
    "---\n",
    "\n",
    "## 🔬 Live Code Exploration\n",
    "\n",
    "### Basic Variable Declaration"
   ]
  },
  {
   "cell_type": "code",
   "execution_count": null,
   "metadata": {},
   "source": [
    "fn basic_variables() {\n",
    "    // Immutable variable (default)\n",
    "    let x = 5;\n",
    "    println!(\"The value of x is: {}\", x);\n",
    "    \n",
    "    // This would cause a compile error:\n",
    "    // x = 6; // Cannot assign twice to immutable variable\n",
    "    \n",
    "    // Mutable variable\n",
    "    let mut y = 10;\n",
    "    println!(\"The value of y is: {}\", y);\n",
    "    \n",
    "    y = 15; // This is allowed because y is mutable\n",
    "    println!(\"The new value of y is: {}\", y);\n",
    "}\n",
    "\n",
    "basic_variables();"
   ],
   "outputs": []
  },
  {
   "cell_type": "markdown",
   "metadata": {},
   "source": [
    "### Primitive Data Types\n",
    "\n",
    "Rust has several categories of primitive types:"
   ]
  },
  {
   "cell_type": "code",
   "execution_count": null,
   "metadata": {},
   "source": [
    "fn primitive_types() {\n",
    "    // Integer types\n",
    "    let small_number: i8 = 127;        // 8-bit signed integer\n",
    "    let big_number: i64 = 1_000_000;   // 64-bit signed integer\n",
    "    let unsigned: u32 = 42;            // 32-bit unsigned integer\n",
    "    \n",
    "    // Floating point types\n",
    "    let pi: f64 = 3.14159;             // 64-bit float (default)\n",
    "    let small_pi: f32 = 3.14;          // 32-bit float\n",
    "    \n",
    "    // Boolean type\n",
    "    let is_rust_awesome: bool = true;\n",
    "    let is_learning_fun = false;       // Type inferred as bool\n",
    "    \n",
    "    // Character type (Unicode scalar value)\n",
    "    let letter: char = 'R';\n",
    "    let emoji = '🦀';                   // Rust crab emoji!\n",
    "    \n",
    "    println!(\"Integer: {}, Float: {:.2}\", big_number, pi);\n",
    "    println!(\"Boolean: {}, Character: {} {}\", is_rust_awesome, letter, emoji);\n",
    "}\n",
    "\n",
    "primitive_types();"
   ],
   "outputs": []
  },
  {
   "cell_type": "markdown",
   "metadata": {},
   "source": [
    "### Type Inference vs Explicit Types"
   ]
  },
  {
   "cell_type": "code",
   "execution_count": null,
   "metadata": {},
   "source": [
    "fn type_examples() {\n",
    "    // Type inference - Rust figures out the type\n",
    "    let inferred_int = 42;           // i32 (default integer type)\n",
    "    let inferred_float = 3.14;       // f64 (default float type)\n",
    "    \n",
    "    // Explicit type annotations\n",
    "    let explicit_int: i16 = 42;\n",
    "    let explicit_float: f32 = 3.14;\n",
    "    \n",
    "    // Type suffixes\n",
    "    let suffix_int = 42i64;          // i64 integer\n",
    "    let suffix_float = 3.14f32;      // f32 float\n",
    "    \n",
    "    println!(\"Inferred: {} {}\", inferred_int, inferred_float);\n",
    "    println!(\"Explicit: {} {}\", explicit_int, explicit_float);\n",
    "    println!(\"Suffix: {} {}\", suffix_int, suffix_float);\n",
    "}\n",
    "\n",
    "type_examples();"
   ],
   "outputs": []
  },
  {
   "cell_type": "markdown",
   "metadata": {},
   "source": [
    "### Variable Shadowing\n",
    "\n",
    "Shadowing allows you to declare a new variable with the same name:"
   ]
  },
  {
   "cell_type": "code",
   "execution_count": null,
   "metadata": {},
   "source": [
    "fn shadowing_example() {\n",
    "    let x = 5;\n",
    "    println!(\"First x: {}\", x);\n",
    "    \n",
    "    let x = x + 1;  // Shadow the previous x\n",
    "    println!(\"Second x: {}\", x);\n",
    "    \n",
    "    {\n",
    "        let x = x * 2;  // Shadow in inner scope\n",
    "        println!(\"Inner scope x: {}\", x);\n",
    "    }\n",
    "    \n",
    "    println!(\"Back to outer scope x: {}\", x);\n",
    "    \n",
    "    // Shadowing can change types!\n",
    "    let spaces = \"   \";\n",
    "    let spaces = spaces.len();  // Now spaces is a number\n",
    "    println!(\"Number of spaces: {}\", spaces);\n",
    "}\n",
    "\n",
    "shadowing_example();"
   ],
   "outputs": []
  },
  {
   "cell_type": "markdown",
   "metadata": {},
   "source": [
    "---\n",
    "\n",
    "## 🎯 Guided Practice\n",
    "\n",
    "### Exercise 1: Temperature Converter\n",
    "\n",
    "Create a function that converts temperatures between Celsius and Fahrenheit."
   ]
  },
  {
   "cell_type": "code",
   "execution_count": null,
   "metadata": {},
   "source": [
    "fn temperature_converter() {\n",
    "    // TODO: Declare variables for temperatures\n",
    "    let celsius: f64 = 25.0;\n",
    "    \n",
    "    // TODO: Convert Celsius to Fahrenheit\n",
    "    // Formula: F = C * 9/5 + 32\n",
    "    let fahrenheit = /* Your calculation here */;\n",
    "    \n",
    "    // TODO: Convert back to verify\n",
    "    // Formula: C = (F - 32) * 5/9\n",
    "    let celsius_check = /* Your calculation here */;\n",
    "    \n",
    "    println!(\"{:.1}°C = {:.1}°F\", celsius, fahrenheit);\n",
    "    println!(\"Verification: {:.1}°F = {:.1}°C\", fahrenheit, celsius_check);\n",
    "}\n",
    "\n",
    "temperature_converter();"
   ],
   "outputs": []
  },
  {
   "cell_type": "markdown",
   "metadata": {},
   "source": [
    "### Exercise 2: Variable Mutation Practice\n",
    "\n",
    "Practice with mutable variables and understand when to use them."
   ]
  },
  {
   "cell_type": "code",
   "execution_count": null,
   "metadata": {},
   "source": [
    "fn mutation_practice() {\n",
    "    // TODO: Create a mutable counter starting at 0\n",
    "    let mut counter = /* Your code here */;\n",
    "    \n",
    "    println!(\"Starting counter: {}\", counter);\n",
    "    \n",
    "    // TODO: Increment the counter by 5\n",
    "    /* Your code here */\n",
    "    println!(\"After increment: {}\", counter);\n",
    "    \n",
    "    // TODO: Double the counter\n",
    "    /* Your code here */\n",
    "    println!(\"After doubling: {}\", counter);\n",
    "    \n",
    "    // TODO: Reset counter to 1\n",
    "    /* Your code here */\n",
    "    println!(\"After reset: {}\", counter);\n",
    "}\n",
    "\n",
    "mutation_practice();"
   ],
   "outputs": []
  },
  {
   "cell_type": "markdown",
   "metadata": {},
   "source": [
    "---\n",
    "\n",
    "## 🚀 Independent Practice\n",
    "\n",
    "### Challenge 1: Data Type Explorer\n",
    "\n",
    "Create a function that demonstrates the range and behavior of different integer types."
   ]
  },
  {
   "cell_type": "code",
   "execution_count": null,
   "metadata": {},
   "source": [
    "fn data_type_explorer() {\n",
    "    // TODO: Explore different integer types\n",
    "    // Show their maximum and minimum values\n",
    "    // Hint: Use std::i32::MAX, std::i32::MIN, etc.\n",
    "    \n",
    "    // TODO: Demonstrate overflow behavior (in debug mode)\n",
    "    // What happens when you exceed the maximum value?\n",
    "    \n",
    "    // TODO: Show precision differences between f32 and f64\n",
    "}\n",
    "\n",
    "data_type_explorer();"
   ],
   "outputs": []
  },
  {
   "cell_type": "markdown",
   "metadata": {},
   "source": [
    "### Challenge 2: Shadowing Scenarios\n",
    "\n",
    "Create examples that show both good and potentially confusing uses of shadowing."
   ]
  },
  {
   "cell_type": "code",
   "execution_count": null,
   "metadata": {},
   "source": [
    "fn shadowing_scenarios() {\n",
    "    // TODO: Show a good use of shadowing\n",
    "    // Example: parsing a string to a number\n",
    "    \n",
    "    // TODO: Show type transformation through shadowing\n",
    "    // Example: string -> processed string -> length\n",
    "    \n",
    "    // TODO: Demonstrate scope-based shadowing\n",
    "}\n",
    "\n",
    "shadowing_scenarios();"
   ],
   "outputs": []
  },
  {
   "cell_type": "markdown",
   "metadata": {},
   "source": [
    "---\n",
    "\n",
    "## 🧪 Active Recall Checkpoint\n",
    "\n",
    "**Test your understanding without looking back:**\n",
    "\n",
    "1. Are Rust variables mutable or immutable by default?\n",
    "2. How do you make a variable mutable?\n",
    "3. What is the default integer type in Rust?\n",
    "4. What is the default floating-point type in Rust?\n",
    "5. Can you change the type of a mutable variable?\n",
    "6. What is variable shadowing?\n",
    "7. How many bytes does a `char` type use in Rust?\n",
    "8. What's the difference between `i32` and `u32`?\n",
    "\n",
    "**Write your answers below:**"
   ]
  },
  {
   "cell_type": "markdown",
   "metadata": {},
   "source": [
    "**Your Answers:**\n",
    "1. \n",
    "2. \n",
    "3. \n",
    "4. \n",
    "5. \n",
    "6. \n",
    "7. \n",
    "8. "
   ]
  },
  {
   "cell_type": "markdown",
   "metadata": {},
   "source": [
    "---\n",
    "\n",
    "## 🤔 Reflection Prompt\n",
    "\n",
    "Consider these questions:\n",
    "\n",
    "1. **How does Rust's immutability-by-default compare to other languages you know?**\n",
    "2. **When might you choose explicit type annotations over type inference?**\n",
    "3. **Can you think of a real-world scenario where variable shadowing would be useful?**\n",
    "4. **What potential bugs might Rust's type system help you avoid?**\n",
    "\n",
    "Write your thoughts below:"
   ]
  },
  {
   "cell_type": "markdown",
   "metadata": {},
   "source": [
    "**Your Reflections:**\n",
    "\n",
    "1. \n",
    "\n",
    "2. \n",
    "\n",
    "3. \n",
    "\n",
    "4. "
   ]
  },
  {
   "cell_type": "markdown",
   "metadata": {},
   "source": [
    "---\n",
    "\n",
    "## 🔮 Preview & Connections\n",
    "\n",
    "### Coming Up Next: Functions & Control Flow\n",
    "\n",
    "In our next lesson, you'll learn:\n",
    "- How to write functions that take parameters and return values\n",
    "- The difference between statements and expressions (crucial in Rust!)\n",
    "- Control flow with `if`, `else`, and loops\n",
    "- How Rust's expression-based nature makes code more concise\n",
    "\n",
    "### How This Connects\n",
    "The variable and type concepts you learned today are fundamental to:\n",
    "- Function parameters and return types\n",
    "- Loop counters and conditional logic\n",
    "- Data transformation and processing\n",
    "- Memory-safe programming patterns\n",
    "\n",
    "---\n",
    "\n",
    "## ✅ Expected Outcomes\n",
    "\n",
    "**Self-Assessment Checklist** - Can you:\n",
    "\n",
    "- [ ] Explain why Rust variables are immutable by default?\n",
    "- [ ] Create both mutable and immutable variables?\n",
    "- [ ] Choose appropriate primitive types for different use cases?\n",
    "- [ ] Use type inference effectively while understanding when to be explicit?\n",
    "- [ ] Apply variable shadowing appropriately?\n",
    "- [ ] Understand the benefits of Rust's type system?\n",
    "- [ ] Work with different numeric types and their ranges?\n",
    "\n",
    "If you checked all boxes, excellent! You're building a solid foundation in Rust's core concepts.\n",
    "\n",
    "---\n",
    "\n",
    "**🎉 Great Progress!** You now understand Rust's approach to variables and types - key building blocks for safe systems programming!"
   ]
  }
 ],
 "metadata": {
  "kernelspec": {
   "display_name": "Rust",
   "language": "rust",
   "name": "rust"
  },
  "language_info": {
   "codemirror_mode": "rust",
   "file_extension": ".rs",
   "mimetype": "text/rust",
   "name": "Rust",
   "pygment_lexer": "rust",
   "version": ""
  }
 },
 "nbformat": 4,
 "nbformat_minor": 4
}
