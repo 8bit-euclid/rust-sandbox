{
 "cells": [
  {
   "cell_type": "markdown",
   "metadata": {},
   "source": [
    "# Lesson B1: Environment Setup & First Steps\n",
    "\n",
    "**Duration**: 45-60 minutes  \n",
    "**Stage**: Beginner (Foundations)\n",
    "\n",
    "---\n",
    "\n",
    "## 🎯 Learning Objectives\n",
    "\n",
    "By the end of this lesson, you will be able to:\n",
    "1. Set up and verify your Rust development environment with Jupyter\n",
    "2. Understand Rust's compilation model and execution process\n",
    "3. Write and execute basic Rust programs using print statements\n",
    "4. Identify the key components of a Rust program structure\n",
    "5. Explain the difference between compiled and interpreted languages\n",
    "\n",
    "---\n",
    "\n",
    "## 📋 Prerequisite Review\n",
    "\n",
    "**Quick Check**: Before we begin, let's ensure you have the basics:\n",
    "\n",
    "- [ ] Do you have experience with at least one programming language?\n",
    "- [ ] Are you familiar with basic programming concepts (variables, functions, loops)?\n",
    "- [ ] Have you installed Rust, Jupyter, and evcxr_jupyter as per the README?\n",
    "\n",
    "If you answered 'no' to any of these, please review the installation instructions in the main README file.\n",
    "\n",
    "---\n",
    "\n",
    "## 🧠 Key Concepts\n",
    "\n",
    "### What Makes Rust Special?\n",
    "\n",
    "Rust is a **systems programming language** that focuses on:\n",
    "- **Memory Safety**: Prevents common bugs like null pointer dereferences\n",
    "- **Performance**: Zero-cost abstractions and no garbage collector\n",
    "- **Concurrency**: Safe parallel programming without data races\n",
    "\n",
    "### Compilation Model\n",
    "\n",
    "Unlike interpreted languages (Python, JavaScript), Rust is **compiled**:\n",
    "1. **Source Code** (.rs files) → **Compiler** (rustc) → **Executable** (binary)\n",
    "2. Errors are caught at **compile time**, not runtime\n",
    "3. The compiler is your **helpful assistant**, not your enemy!\n",
    "\n",
    "### Program Structure\n",
    "\n",
    "Every Rust program has:\n",
    "- A `main` function (entry point)\n",
    "- Statements and expressions\n",
    "- Macros (like `println!`) for common operations\n",
    "\n",
    "---\n",
    "\n",
    "## 🔬 Live Code Exploration\n",
    "\n",
    "Let's start with the classic \"Hello, World!\" program:"
   ]
  },
  {
   "cell_type": "code",
   "execution_count": null,
   "metadata": {},
   "source": [
    "// Our first Rust program!\n",
    "fn main() {\n",
    "    println!(\"Hello, World!\");\n",
    "}\n",
    "\n",
    "main();"
   ],
   "outputs": []
  },
  {
   "cell_type": "markdown",
   "metadata": {},
   "source": [
    "**Let's break this down:**\n",
    "- `fn main()` declares the main function\n",
    "- `println!` is a **macro** (note the `!`) that prints to the console\n",
    "- Statements end with semicolons `;`\n",
    "- `main();` calls our function (needed in Jupyter)\n",
    "\n",
    "### Experiment: Different Greetings"
   ]
  },
  {
   "cell_type": "code",
   "execution_count": null,
   "metadata": {},
   "source": [
    "fn greet_world() {\n",
    "    println!(\"Hello, Rust!\");\n",
    "    println!(\"Welcome to systems programming!\");\n",
    "    println!(\"🦀 Let's learn together!\");\n",
    "}\n",
    "\n",
    "greet_world();"
   ],
   "outputs": []
  },
  {
   "cell_type": "markdown",
   "metadata": {},
   "source": [
    "### String Formatting\n",
    "\n",
    "Rust provides powerful string formatting capabilities:"
   ]
  },
  {
   "cell_type": "code",
   "execution_count": null,
   "metadata": {},
   "source": [
    "fn demonstrate_formatting() {\n",
    "    let name = \"Alice\";\n",
    "    let age = 30;\n",
    "    \n",
    "    // Basic placeholder\n",
    "    println!(\"Hello, {}!\", name);\n",
    "    \n",
    "    // Multiple placeholders\n",
    "    println!(\"{} is {} years old\", name, age);\n",
    "    \n",
    "    // Named placeholders\n",
    "    println!(\"{person} loves {language}!\", person=name, language=\"Rust\");\n",
    "    \n",
    "    // Number formatting\n",
    "    println!(\"Pi is approximately {:.2}\", 3.14159);\n",
    "}\n",
    "\n",
    "demonstrate_formatting();"
   ],
   "outputs": []
  },
  {
   "cell_type": "markdown",
   "metadata": {},
   "source": [
    "---\n",
    "\n",
    "## 🎯 Guided Practice\n",
    "\n",
    "### Exercise 1: Personal Introduction\n",
    "\n",
    "Create a function that introduces yourself with your name, favorite programming language, and a fun fact."
   ]
  },
  {
   "cell_type": "code",
   "execution_count": null,
   "metadata": {},
   "source": [
    "// TODO: Complete this function\n",
    "fn introduce_yourself() {\n",
    "    let name = \"Your Name Here\";  // Replace with your name\n",
    "    let favorite_lang = \"Rust\";   // Replace if different\n",
    "    let fun_fact = \"I love learning new things!\";  // Add your fun fact\n",
    "    \n",
    "    // TODO: Use println! to create a nice introduction\n",
    "    // Hint: Use the formatting examples above\n",
    "}\n",
    "\n",
    "introduce_yourself();"
   ],
   "outputs": []
  },
  {
   "cell_type": "markdown",
   "metadata": {},
   "source": [
    "### Exercise 2: Math Operations Display\n",
    "\n",
    "Create a function that demonstrates basic arithmetic and displays the results nicely formatted."
   ]
  },
  {
   "cell_type": "code",
   "execution_count": null,
   "metadata": {},
   "source": [
    "// TODO: Complete this function\n",
    "fn math_demo() {\n",
    "    let a = 15;\n",
    "    let b = 4;\n",
    "    \n",
    "    // TODO: Calculate and display:\n",
    "    // - Addition\n",
    "    // - Subtraction  \n",
    "    // - Multiplication\n",
    "    // - Division (as floating point)\n",
    "    // - Remainder\n",
    "    \n",
    "    // Example format: \"15 + 4 = 19\"\n",
    "}\n",
    "\n",
    "math_demo();"
   ],
   "outputs": []
  },
  {
   "cell_type": "markdown",
   "metadata": {},
   "source": [
    "---\n",
    "\n",
    "## 🚀 Independent Practice\n",
    "\n",
    "### Challenge 1: ASCII Art Generator\n",
    "\n",
    "Create a function that displays your initials or a simple pattern using ASCII art. Be creative!"
   ]
  },
  {
   "cell_type": "code",
   "execution_count": null,
   "metadata": {},
   "source": [
    "// Your creative ASCII art function here\n",
    "fn ascii_art() {\n",
    "    // TODO: Create ASCII art of your initials or a fun pattern\n",
    "    // Use multiple println! statements\n",
    "}\n",
    "\n",
    "ascii_art();"
   ],
   "outputs": []
  },
  {
   "cell_type": "markdown",
   "metadata": {},
   "source": [
    "### Challenge 2: System Information Display\n",
    "\n",
    "Create a function that displays information about your learning environment."
   ]
  },
  {
   "cell_type": "code",
   "execution_count": null,
   "metadata": {},
   "source": [
    "fn system_info() {\n",
    "    // TODO: Display information like:\n",
    "    // - Current lesson\n",
    "    // - Rust version (you can hardcode this for now)\n",
    "    // - Your learning goals\n",
    "    // - Estimated completion time\n",
    "}\n",
    "\n",
    "system_info();"
   ],
   "outputs": []
  },
  {
   "cell_type": "markdown",
   "metadata": {},
   "source": [
    "---\n",
    "\n",
    "## 🧪 Active Recall Checkpoint\n",
    "\n",
    "**Test your understanding without looking back at the examples:**\n",
    "\n",
    "1. What is the name of the function that serves as the entry point for Rust programs?\n",
    "2. What symbol indicates that `println!` is a macro rather than a function?\n",
    "3. How do you include a variable's value in a printed string?\n",
    "4. What character ends most statements in Rust?\n",
    "5. Is Rust a compiled or interpreted language?\n",
    "6. What are the three main focuses of Rust as a systems programming language?\n",
    "7. How would you print the number 3.14159 rounded to 3 decimal places?\n",
    "\n",
    "**Write your answers in the cell below:**"
   ]
  },
  {
   "cell_type": "markdown",
   "metadata": {},
   "source": [
    "**Your Answers:**\n",
    "1. \n",
    "2. \n",
    "3. \n",
    "4. \n",
    "5. \n",
    "6. \n",
    "7. "
   ]
  },
  {
   "cell_type": "markdown",
   "metadata": {},
   "source": [
    "---\n",
    "\n",
    "## 🤔 Reflection Prompt\n",
    "\n",
    "Take a moment to reflect on your learning:\n",
    "\n",
    "1. **What surprised you most about Rust so far?**\n",
    "2. **How does Rust's compilation model compare to languages you've used before?**\n",
    "3. **What questions do you have about Rust that you'd like answered in future lessons?**\n",
    "4. **On a scale of 1-10, how confident do you feel about writing basic Rust programs?**\n",
    "\n",
    "Write your reflections in the cell below:"
   ]
  },
  {
   "cell_type": "markdown",
   "metadata": {},
   "source": [
    "**Your Reflections:**\n",
    "\n",
    "1. \n",
    "\n",
    "2. \n",
    "\n",
    "3. \n",
    "\n",
    "4. "
   ]
  },
  {
   "cell_type": "markdown",
   "metadata": {},
   "source": [
    "---\n",
    "\n",
    "## 🔮 Preview & Connections\n",
    "\n",
    "### Coming Up Next: Variables, Mutability & Data Types\n",
    "\n",
    "In our next lesson, you'll discover:\n",
    "- Why Rust variables are **immutable by default** (and why this is powerful)\n",
    "- The rich type system that helps prevent bugs\n",
    "- How Rust infers types while maintaining safety\n",
    "- The concept of **shadowing** and when to use it\n",
    "\n",
    "### How This Connects\n",
    "The printing and formatting skills you learned today will be essential for:\n",
    "- Debugging your programs (displaying variable values)\n",
    "- Creating user-friendly applications\n",
    "- Understanding how data flows through your programs\n",
    "\n",
    "---\n",
    "\n",
    "## ✅ Expected Outcomes\n",
    "\n",
    "**Self-Assessment Checklist** - Can you:\n",
    "\n",
    "- [ ] Write a basic Rust function with proper syntax?\n",
    "- [ ] Use `println!` macro with various formatting options?\n",
    "- [ ] Explain why Rust is a compiled language?\n",
    "- [ ] Identify the main components of a Rust program?\n",
    "- [ ] Execute Rust code in the Jupyter environment?\n",
    "- [ ] Format numbers and strings in print statements?\n",
    "- [ ] Understand the role of the `main` function?\n",
    "\n",
    "If you checked all boxes, you're ready for the next lesson! If not, review the sections where you need more practice.\n",
    "\n",
    "---\n",
    "\n",
    "**🎉 Congratulations!** You've taken your first steps into the Rust ecosystem. The journey ahead is exciting and rewarding!"
   ]
  }
 ],
 "metadata": {
  "kernelspec": {
   "display_name": "Rust",
   "language": "rust",
   "name": "rust"
  },
  "language_info": {
   "codemirror_mode": "rust",
   "file_extension": ".rs",
   "mimetype": "text/rust",
   "name": "Rust",
   "pygment_lexer": "rust",
   "version": ""
  }
 },
 "nbformat": 4,
 "nbformat_minor": 4
}
